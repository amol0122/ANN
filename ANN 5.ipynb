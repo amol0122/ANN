{
 "cells": [
  {
   "cell_type": "code",
   "execution_count": null,
   "metadata": {},
   "outputs": [],
   "source": [
    "#Bidirectional Associative Memory with two pairs of vectors"
   ]
  },
  {
   "cell_type": "code",
   "execution_count": 1,
   "metadata": {
    "colab": {
     "base_uri": "https://localhost:8080/"
    },
    "executionInfo": {
     "elapsed": 552,
     "status": "ok",
     "timestamp": 1682833277051,
     "user": {
      "displayName": "2241 Shreyash Madake",
      "userId": "13206849318657850522"
     },
     "user_tz": -330
    },
    "id": "1d31484e",
    "outputId": "2da7c37a-27f7-4144-d310-d4180fe04f64"
   },
   "outputs": [
    {
     "name": "stdout",
     "output_type": "stream",
     "text": [
      "[-1  1 -1  1]\n"
     ]
    }
   ],
   "source": [
    "import numpy as np\n",
    "\n",
    "class BAM:\n",
    "    def __init__(self, input_dim, output_dim):\n",
    "        self.W = np.zeros((input_dim, output_dim))\n",
    "# weight matrix self.W init as a 2D array of zeros with input_dim rows and output_dim columns\n",
    "#learned during training to map i_dim & o_dim \n",
    "\n",
    "    def train(self, X, Y):\n",
    "        self.W = np.dot(X.T, Y)\n",
    "        \n",
    "    def predict_x(self, Y):\n",
    "        return np.where(np.dot(Y, self.W.T) > 0, 1, -1)\n",
    "    \n",
    "    def predict_y(self, X):\n",
    "        return np.where(np.dot(X, self.W) > 0, 1, -1)\n",
    "    \n",
    "# example usage\n",
    "X = np.array([[1, 0, 1, 0], [0, 1, 0, 1]])\n",
    "Y = np.array([[0, 1, 0, 1], [1, 0, 1, 0]])\n",
    "bam = BAM(input_dim=4, output_dim=4)\n",
    "#set to 4 bits due to memory set for them \n",
    "bam.train(X, Y)\n",
    "# two input patterns X and Y, where X maps to Y and Y maps to X\n",
    "\n",
    "# test prediction\n",
    "x_test = np.array([1, 0, 0, 0])\n",
    "y_pred = bam.predict_y(x_test)\n",
    "print(y_pred)  # [ 0 -1  0 -1]\n",
    "\n",
    "#tries to match I/O patterns in a symm way, but the order of input and output patterns matters\n",
    "#The input patterns in X array, and output patterns as rows in the Y array."
   ]
  },
  {
   "cell_type": "code",
   "execution_count": null,
   "metadata": {
    "id": "d90dbf24"
   },
   "outputs": [],
   "source": [
    "#BAM stores retrieves bidirectional association, has I/O layers and connection b/w them is symm"
   ]
  }
 ],
 "metadata": {
  "colab": {
   "authorship_tag": "ABX9TyOnB72NBvmFjUjbz3Yhv0pI",
   "provenance": []
  },
  "kernelspec": {
   "display_name": "Python 3",
   "language": "python",
   "name": "python3"
  },
  "language_info": {
   "codemirror_mode": {
    "name": "ipython",
    "version": 3
   },
   "file_extension": ".py",
   "mimetype": "text/x-python",
   "name": "python",
   "nbconvert_exporter": "python",
   "pygments_lexer": "ipython3",
   "version": "3.8.5"
  }
 },
 "nbformat": 4,
 "nbformat_minor": 1
}
